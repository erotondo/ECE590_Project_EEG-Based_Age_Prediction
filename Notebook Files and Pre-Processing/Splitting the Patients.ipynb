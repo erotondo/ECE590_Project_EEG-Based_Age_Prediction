{
 "cells": [
  {
   "cell_type": "code",
   "execution_count": 1,
   "id": "d195396e",
   "metadata": {},
   "outputs": [],
   "source": [
    "import pandas as pd\n",
    "import math\n",
    "import matplotlib.pyplot as plt\n",
    "import numpy as np"
   ]
  },
  {
   "cell_type": "code",
   "execution_count": 2,
   "id": "d741bb79",
   "metadata": {},
   "outputs": [],
   "source": [
    "df = pd.read_table('~/Desktop/TDBRAIN-dataset-derivatives/TDBRAIN_participants_V2_data/TDBRAIN_participants_V2.tsv')\n",
    "df['indication'] = df['indication'].str.strip()"
   ]
  },
  {
   "cell_type": "code",
   "execution_count": 3,
   "id": "030f362e",
   "metadata": {},
   "outputs": [],
   "source": [
    "indications = df.indication.unique()\n",
    "unique_indications = ['NaN']\n",
    "for i in indications:\n",
    "    if type(i) is not type(str()):\n",
    "        continue\n",
    "    elif \"/\" not in i: # Some patients have multiple diagnosis\n",
    "        unique_indications.append(i)"
   ]
  },
  {
   "cell_type": "code",
   "execution_count": null,
   "id": "6b199cbd",
   "metadata": {},
   "outputs": [],
   "source": [
    "forty_or_more = [\"NaN\"]\n",
    "for d in unique_indications:\n",
    "    if d == \"NaN\":\n",
    "        num_nan = df.indication.isna().sum()\n",
    "        print(f'Number of NaN instances: ' + str(num_nan))\n",
    "    elif \"/\" not in d:\n",
    "        run_sum = 0\n",
    "        for i in df.indication.unique():\n",
    "            if type(i) is not type(str()) and math.isnan(i):\n",
    "                continue\n",
    "            elif d in i:\n",
    "                run_sum+=df.indication.value_counts()[i]\n",
    "        print(f'Number of ' + d + ' instances: ' + str(run_sum))\n",
    "        if run_sum >= 40:\n",
    "            forty_or_more.append(d)"
   ]
  },
  {
   "cell_type": "markdown",
   "id": "6767f73a",
   "metadata": {},
   "source": [
    "# Diagnoses with more than forty subjects\n",
    "Note: NaN and REPLICATION categories are either unknown or withheld diagnoses"
   ]
  },
  {
   "cell_type": "code",
   "execution_count": 5,
   "id": "98e07a3c",
   "metadata": {},
   "outputs": [
    {
     "name": "stdout",
     "output_type": "stream",
     "text": [
      "['NaN', 'REPLICATION', 'SMC', 'HEALTHY', 'MDD', 'ADHD', 'OCD']\n"
     ]
    }
   ],
   "source": [
    "print(forty_or_more)"
   ]
  },
  {
   "cell_type": "markdown",
   "id": "18a5453d",
   "metadata": {},
   "source": [
    "# The only columns we care about: \n",
    "## \\['participants_ID', 'indication', 'age', 'gender', 'sessID'\\]\n",
    "Will add two additional columns:\n",
    "1) Whether the subject has multiple diagnoses <br>\n",
    "2) The folder location with the subject's EEG data"
   ]
  },
  {
   "cell_type": "markdown",
   "id": "74659f3c",
   "metadata": {},
   "source": [
    "# Six Subject Groupings\n",
    "### \\['UNKNOWN', 'SMC', 'HEALTHY', 'MDD', 'ADHD', 'OCD'\\]"
   ]
  },
  {
   "cell_type": "markdown",
   "id": "a8ddce8c",
   "metadata": {},
   "source": [
    "### Raw Participant Separation"
   ]
  },
  {
   "cell_type": "code",
   "execution_count": 7,
   "id": "cf37da40",
   "metadata": {},
   "outputs": [],
   "source": [
    "df_copy = df.copy()\n",
    "# Replace commas with periods and convert age to numeric type\n",
    "df_copy['age'] = df_copy['age'].str.replace(',', '.')\n",
    "df_copy['age'] = pd.to_numeric(df_copy['age'])"
   ]
  },
  {
   "cell_type": "code",
   "execution_count": 8,
   "id": "57adeca6",
   "metadata": {},
   "outputs": [
    {
     "name": "stdout",
     "output_type": "stream",
     "text": [
      "Number of entries: 1350\n",
      "Number of entries after removing unknown age entries: 1326\n"
     ]
    }
   ],
   "source": [
    "# Remove subjects whose age is unknown (NaN)\n",
    "print(\"Number of entries: \" + str(len(df_copy)))\n",
    "df_copy.dropna(subset=['age'], inplace=True)\n",
    "print(\"Number of entries after removing unknown age entries: \" + str(len(df_copy)))"
   ]
  },
  {
   "cell_type": "code",
   "execution_count": 9,
   "id": "b7d2c933",
   "metadata": {},
   "outputs": [],
   "source": [
    "# Convert Remaining NaN values to a string of 'NaN'\n",
    "df_copy.replace(np.nan,'NaN',regex=True,inplace=True)"
   ]
  },
  {
   "cell_type": "code",
   "execution_count": 10,
   "id": "597f0ff9",
   "metadata": {},
   "outputs": [],
   "source": [
    "df_unknown = pd.DataFrame(columns=df_copy.columns)\n",
    "df_smc = pd.DataFrame(columns=df_copy.columns)\n",
    "df_healthy = pd.DataFrame(columns=df_copy.columns)\n",
    "df_mdd = pd.DataFrame(columns=df_copy.columns)\n",
    "df_adhd = pd.DataFrame(columns=df_copy.columns)\n",
    "df_ocd = pd.DataFrame(columns=df_copy.columns)"
   ]
  },
  {
   "cell_type": "code",
   "execution_count": 11,
   "id": "e97ee519",
   "metadata": {},
   "outputs": [],
   "source": [
    "# ['NaN', 'REPLICATION', 'SMC', 'HEALTHY', 'MDD', 'ADHD', 'OCD']\n",
    "diag_dict = {\n",
    "    'NaN': df_unknown,\n",
    "    'REPLICATION': df_unknown,\n",
    "    'SMC': df_smc,\n",
    "    'HEALTHY': df_healthy,\n",
    "    'MDD': df_mdd,\n",
    "    'ADHD': df_adhd,\n",
    "    'OCD': df_ocd,\n",
    "}"
   ]
  },
  {
   "cell_type": "code",
   "execution_count": 12,
   "id": "c3a92ddf",
   "metadata": {},
   "outputs": [],
   "source": [
    "# Go through each entry and add to the respective group(s)\n",
    "for row in df_copy.itertuples(index=False, name='Pandas'):\n",
    "    for diag in forty_or_more:\n",
    "        if diag in row.indication:\n",
    "            cur_df = diag_dict[diag]\n",
    "            cur_df.loc[len(cur_df.index)] = row\n",
    "            if diag == row.indication: # Single diagnosis for current entry?\n",
    "                break # No need to continue inner loop"
   ]
  },
  {
   "cell_type": "code",
   "execution_count": 13,
   "id": "07e7c4e4",
   "metadata": {},
   "outputs": [
    {
     "name": "stdout",
     "output_type": "stream",
     "text": [
      "377\n",
      "115\n",
      "37\n",
      "360\n",
      "232\n",
      "57\n"
     ]
    }
   ],
   "source": [
    "print(len(df_unknown))\n",
    "print(len(df_smc))\n",
    "print(len(df_healthy))\n",
    "print(len(df_mdd))\n",
    "print(len(df_adhd))\n",
    "print(len(df_ocd))"
   ]
  },
  {
   "cell_type": "code",
   "execution_count": 14,
   "id": "4369a97b",
   "metadata": {},
   "outputs": [],
   "source": [
    "# Save created diagnosis dataframes as csv files\n",
    "df_unknown.to_csv('Patient_Groups/raw_splitting/unknown_diagnosis/participants.csv', index=False)\n",
    "df_smc.to_csv('Patient_Groups/raw_splitting/smc/participants.csv', index=False)\n",
    "df_healthy.to_csv('Patient_Groups/raw_splitting/healthy/participants.csv', index=False)\n",
    "df_mdd.to_csv('Patient_Groups/raw_splitting/mdd/participants.csv', index=False)\n",
    "df_adhd.to_csv('Patient_Groups/raw_splitting/adhd/participants.csv', index=False)\n",
    "df_ocd.to_csv('Patient_Groups/raw_splitting/ocd/participants.csv', index=False)"
   ]
  },
  {
   "cell_type": "markdown",
   "id": "8ea372bb",
   "metadata": {},
   "source": [
    "### For Model Building"
   ]
  },
  {
   "cell_type": "code",
   "execution_count": 15,
   "id": "87ad1459",
   "metadata": {},
   "outputs": [],
   "source": [
    "df_copy = df[['participants_ID', 'indication', 'age', 'gender', 'sessID']].copy()\n",
    "# Replace commas with periods and convert age to numeric type\n",
    "df_copy['age'] = df_copy['age'].str.replace(',', '.')\n",
    "df_copy['age'] = pd.to_numeric(df_copy['age'])"
   ]
  },
  {
   "cell_type": "code",
   "execution_count": 16,
   "id": "29bb475d",
   "metadata": {},
   "outputs": [
    {
     "name": "stdout",
     "output_type": "stream",
     "text": [
      "Number of entries: 1350\n",
      "Number of entries after removing unknown age entries: 1326\n"
     ]
    }
   ],
   "source": [
    "# Remove subjects whose age is unknown (NaN)\n",
    "print(\"Number of entries: \" + str(len(df_copy)))\n",
    "df_copy.dropna(subset=['age'], inplace=True)\n",
    "print(\"Number of entries after removing unknown age entries: \" + str(len(df_copy)))"
   ]
  },
  {
   "cell_type": "code",
   "execution_count": 17,
   "id": "df0a24ea",
   "metadata": {},
   "outputs": [],
   "source": [
    "# Convert Remaining NaN values to a string of 'NaN'\n",
    "df_copy.replace(np.nan,'NaN',regex=True,inplace=True)"
   ]
  },
  {
   "cell_type": "code",
   "execution_count": 18,
   "id": "bf388658",
   "metadata": {},
   "outputs": [],
   "source": [
    "df_unknown = pd.DataFrame(columns=['participants_ID', 'indication', 'multi', 'age', 'gender', 'sessID', 'data_loc'])\n",
    "df_smc = pd.DataFrame(columns=['participants_ID', 'indication', 'multi', 'age', 'gender', 'sessID', 'data_loc'])\n",
    "df_healthy = pd.DataFrame(columns=['participants_ID', 'indication', 'multi', 'age', 'gender', 'sessID', 'data_loc'])\n",
    "df_mdd = pd.DataFrame(columns=['participants_ID', 'indication', 'multi', 'age', 'gender', 'sessID', 'data_loc'])\n",
    "df_adhd = pd.DataFrame(columns=['participants_ID', 'indication', 'multi', 'age', 'gender', 'sessID', 'data_loc'])\n",
    "df_ocd = pd.DataFrame(columns=['participants_ID', 'indication', 'multi', 'age', 'gender', 'sessID', 'data_loc'])"
   ]
  },
  {
   "cell_type": "code",
   "execution_count": 19,
   "id": "e1d20ea7",
   "metadata": {},
   "outputs": [],
   "source": [
    "# ['NaN', 'REPLICATION', 'SMC', 'HEALTHY', 'MDD', 'ADHD', 'OCD']\n",
    "diag_dict = {\n",
    "    'NaN': df_unknown,\n",
    "    'REPLICATION': df_unknown,\n",
    "    'SMC': df_smc,\n",
    "    'HEALTHY': df_healthy,\n",
    "    'MDD': df_mdd,\n",
    "    'ADHD': df_adhd,\n",
    "    'OCD': df_ocd,\n",
    "}\n",
    "# Subject-Independent Data Path\n",
    "sub_ind_path = '~/Desktop/TDBRAIN-dataset-derivatives/derivatives/'"
   ]
  },
  {
   "cell_type": "code",
   "execution_count": 20,
   "id": "a5081ba3",
   "metadata": {},
   "outputs": [],
   "source": [
    "# Go through each entry and add to the respective group(s)\n",
    "for row in df_copy.itertuples(index=True, name='Pandas'):\n",
    "    for diag in forty_or_more:\n",
    "        if diag in row.indication:\n",
    "            cur_df = diag_dict[diag]\n",
    "            cur_df.loc[len(cur_df.index)] = [row.participants_ID, \n",
    "                                             row.indication, \n",
    "                                             bool(diag != row.indication),\n",
    "                                             row.age,\n",
    "                                             row.gender,\n",
    "                                             row.sessID,\n",
    "                                             (sub_ind_path + row.participants_ID)]\n",
    "            if diag == row.indication: # Single diagnosis for current entry?\n",
    "                break # No need to continue inner loop"
   ]
  },
  {
   "cell_type": "code",
   "execution_count": 25,
   "id": "36eb78f2",
   "metadata": {},
   "outputs": [
    {
     "name": "stdout",
     "output_type": "stream",
     "text": [
      "377\n",
      "115\n",
      "37\n",
      "360\n",
      "232\n",
      "57\n"
     ]
    }
   ],
   "source": [
    "print(len(df_unknown))\n",
    "print(len(df_smc))\n",
    "print(len(df_healthy))\n",
    "print(len(df_mdd))\n",
    "print(len(df_adhd))\n",
    "print(len(df_ocd))"
   ]
  },
  {
   "cell_type": "code",
   "execution_count": null,
   "id": "29cca284",
   "metadata": {},
   "outputs": [],
   "source": [
    "pd.set_option('max_colwidth', False)\n",
    "display(df_healthy)"
   ]
  },
  {
   "cell_type": "code",
   "execution_count": 23,
   "id": "c3b78963",
   "metadata": {},
   "outputs": [],
   "source": [
    "# Save created diagnosis dataframes as csv files\n",
    "df_unknown.to_csv('Patient_Groups/for_model_building/unknown_diagnosis_subjects.csv', index=False)\n",
    "df_smc.to_csv('Patient_Groups/for_model_building/smc_subjects.csv', index=False)\n",
    "df_healthy.to_csv('Patient_Groups/for_model_building/healthy_subjects.csv', index=False)\n",
    "df_mdd.to_csv('Patient_Groups/for_model_building/mdd_subjects.csv', index=False)\n",
    "df_adhd.to_csv('Patient_Groups/for_model_building/adhd_subjects.csv', index=False)\n",
    "df_ocd.to_csv('Patient_Groups/for_model_building/ocd_subjects.csv', index=False)"
   ]
  },
  {
   "cell_type": "code",
   "execution_count": null,
   "id": "9e6f9bcb",
   "metadata": {},
   "outputs": [],
   "source": [
    "# End"
   ]
  },
  {
   "cell_type": "code",
   "execution_count": 34,
   "id": "15c7c4b7",
   "metadata": {},
   "outputs": [],
   "source": [
    "# Generate CF Splits\n",
    "def get_splits(group, df_group):\n",
    "    participants = df_group['participants_ID'].copy()\n",
    "    participants = participants.str.replace('sub-', '')\n",
    "    participants = participants.tolist()\n",
    "    \n",
    "    min_per_group = len(participants) // 5\n",
    "    extras = len(participants) % 5\n",
    "    \n",
    "    index=0\n",
    "    for i in range(5):\n",
    "        if extras > 0:\n",
    "            span = min_per_group + 1\n",
    "            extras-=1\n",
    "        else:\n",
    "            span = min_per_group\n",
    "        \n",
    "        cur_split = participants[index:index+span]\n",
    "        index = index+span\n",
    "        print(cur_split)\n",
    "        np.save('Patient_Groups/for_model_building/'+group+'_group/split_'+str(i+1)+'.npy',cur_split)"
   ]
  },
  {
   "cell_type": "code",
   "execution_count": 35,
   "id": "f6a35847",
   "metadata": {},
   "outputs": [
    {
     "name": "stdout",
     "output_type": "stream",
     "text": [
      "['87974665', '87974709', '87974841', '87974973', '87976193', '87976369', '87976457', '87976505']\n",
      "['87976817', '87976953', '87977045', '87980241', '87980373', '87980417', '87980869', '87982225']\n",
      "['87982849', '88008997', '88041893', '88041941', '88048729', '88049585', '88051073']\n",
      "['88053453', '88053545', '88055121', '88055301', '88057461', '88057869', '88058001']\n",
      "['88058633', '88059397', '88067357', '88067853', '88068841', '88073029', '88075053']\n"
     ]
    }
   ],
   "source": [
    "get_splits('healthy', df_healthy)"
   ]
  }
 ],
 "metadata": {
  "kernelspec": {
   "display_name": "Python 3 (ipykernel)",
   "language": "python",
   "name": "python3"
  },
  "language_info": {
   "codemirror_mode": {
    "name": "ipython",
    "version": 3
   },
   "file_extension": ".py",
   "mimetype": "text/x-python",
   "name": "python",
   "nbconvert_exporter": "python",
   "pygments_lexer": "ipython3",
   "version": "3.9.13"
  }
 },
 "nbformat": 4,
 "nbformat_minor": 5
}
