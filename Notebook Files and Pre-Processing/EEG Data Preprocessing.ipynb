{
 "cells": [
  {
   "cell_type": "code",
   "execution_count": null,
   "id": "2329d495",
   "metadata": {},
   "outputs": [],
   "source": [
    "import pandas as pd\n",
    "import math\n",
    "import matplotlib.pyplot as plt\n",
    "import numpy as np\n",
    "import os"
   ]
  },
  {
   "cell_type": "code",
   "execution_count": null,
   "id": "8b7fdcea",
   "metadata": {},
   "outputs": [],
   "source": [
    "# autopreprocess_pipeline.py\n",
    "# \"\"\" standard autopreprocessing pipeline\n",
    "#     varargsin is a dictionary required with fields:\n",
    "#         ['sourcepath']: path of the original datasets\n",
    "#         ['savepath']: folder where the data should be saved\n",
    "#         ['condition']: which condition should be preprocessed\n",
    "#     subject: (optional) if a specific subject should be processed, should be IDcode e.g. 12013456\n",
    "#             but can also be can be the nth file in a folder\n",
    "# \"\"\""
   ]
  },
  {
   "cell_type": "markdown",
   "id": "6fe09ba7",
   "metadata": {},
   "source": [
    "# Preprocessing\n",
    "As suggested by dataset's creators, plus non-overlapping segments and bad segments removed <br>\n",
    "NOTE: Some modifications were made to the autopreprocess_pipeline.py file."
   ]
  },
  {
   "cell_type": "code",
   "execution_count": null,
   "id": "6429984e",
   "metadata": {},
   "outputs": [],
   "source": [
    "# ! python autopreprocess_pipeline.py \\\n",
    "#     --sourcepath '~/Desktop/TDBRAIN-dataset-derivatives/derivatives' \\\n",
    "#     --savepath '~/Desktop/test' \\\n",
    "#     --subject '87976953'"
   ]
  },
  {
   "cell_type": "code",
   "execution_count": null,
   "id": "72fd1502",
   "metadata": {},
   "outputs": [],
   "source": [
    "def get_subgroup_particpants(group):\n",
    "    path = './Patient_Groups/for_model_building'\n",
    "    file_name = group + '_subjects.csv'\n",
    "    df = pd.read_csv(os.path.join(path,file_name))\n",
    "    participants = df['participants_ID'].copy()\n",
    "    participants = participants.str.replace('sub-', '')\n",
    "    return participants.tolist()"
   ]
  },
  {
   "cell_type": "code",
   "execution_count": null,
   "id": "9393c75a",
   "metadata": {},
   "outputs": [],
   "source": [
    "# groups = ['adhd', 'healthy', 'mdd', 'ocd', 'smc', 'unknown_diagnosis']\n",
    "groups = ['healthy','ocd', 'smc']"
   ]
  },
  {
   "cell_type": "code",
   "execution_count": null,
   "id": "1445959e",
   "metadata": {},
   "outputs": [],
   "source": [
    "for group in groups:\n",
    "    cur_parts = get_subgroup_particpants(group)\n",
    "    \n",
    "    for part in cur_parts:\n",
    "        ! python autopreprocess_pipeline.py \\\n",
    "            --sourcepath '~/Desktop/TDBRAIN-dataset-derivatives/derivatives' \\\n",
    "            --savepath {'~/Desktop/subgroup_data/' + group + '_group'} \\\n",
    "            --subject {part}"
   ]
  }
 ],
 "metadata": {
  "kernelspec": {
   "display_name": "Python 3 (ipykernel)",
   "language": "python",
   "name": "python3"
  },
  "language_info": {
   "codemirror_mode": {
    "name": "ipython",
    "version": 3
   },
   "file_extension": ".py",
   "mimetype": "text/x-python",
   "name": "python",
   "nbconvert_exporter": "python",
   "pygments_lexer": "ipython3",
   "version": "3.9.13"
  }
 },
 "nbformat": 4,
 "nbformat_minor": 5
}
